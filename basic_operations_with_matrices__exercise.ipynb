{
  "cells": [
    {
      "cell_type": "markdown",
      "metadata": {
        "ExecuteTime": {
          "end_time": "2020-01-30T08:49:56.471556Z",
          "start_time": "2020-01-30T08:49:56.467072Z"
        },
        "id": "9cxst2On2zU9"
      },
      "source": [
        "**TASK:** import numpy"
      ]
    },
    {
      "cell_type": "code",
      "execution_count": 1,
      "metadata": {
        "id": "3ca6mc8D2zVB"
      },
      "outputs": [],
      "source": [
        "import numpy as np"
      ]
    },
    {
      "cell_type": "markdown",
      "metadata": {
        "ExecuteTime": {
          "end_time": "2020-01-30T08:49:56.803505Z",
          "start_time": "2020-01-30T08:49:56.790390Z"
        },
        "id": "qE4VwxNf2zVC"
      },
      "source": [
        "**TASK:** define vector 'x' with three coordinates"
      ]
    },
    {
      "cell_type": "code",
      "execution_count": 3,
      "metadata": {
        "id": "HoCjdgXg2zVC"
      },
      "outputs": [],
      "source": [
        "x = np.array([1,2,3])"
      ]
    },
    {
      "cell_type": "markdown",
      "metadata": {
        "ExecuteTime": {
          "end_time": "2020-01-30T08:49:57.155981Z",
          "start_time": "2020-01-30T08:49:57.142948Z"
        },
        "id": "1WxDT5Rr2zVC"
      },
      "source": [
        "**TASK:** define (2 x 2) matrix 'A' \n"
      ]
    },
    {
      "cell_type": "code",
      "execution_count": 5,
      "metadata": {
        "id": "GKP726gR2zVD"
      },
      "outputs": [],
      "source": [
        "A = np.array([[1,2],[3,4]])"
      ]
    },
    {
      "cell_type": "markdown",
      "metadata": {
        "ExecuteTime": {
          "end_time": "2020-01-30T08:49:57.628250Z",
          "start_time": "2020-01-30T08:49:57.618326Z"
        },
        "id": "VTsnRlpn2zVD"
      },
      "source": [
        "**TASK:** define (2 x 2) matrix 'B'"
      ]
    },
    {
      "cell_type": "code",
      "execution_count": 6,
      "metadata": {
        "id": "B7xxRSQc2zVD"
      },
      "outputs": [],
      "source": [
        "B = np.array([[5,6],[7,8]])"
      ]
    },
    {
      "cell_type": "markdown",
      "metadata": {
        "ExecuteTime": {
          "end_time": "2020-01-30T08:49:57.644266Z",
          "start_time": "2020-01-30T08:49:57.633733Z"
        },
        "id": "03GJW1AJ2zVE"
      },
      "source": [
        "**TASK:** check the type of 'x'"
      ]
    },
    {
      "cell_type": "code",
      "execution_count": 7,
      "metadata": {
        "id": "OhibEWFw2zVE",
        "outputId": "cfa4a937-d0b7-4eee-cab4-9cc508bf029c",
        "colab": {
          "base_uri": "https://localhost:8080/"
        }
      },
      "outputs": [
        {
          "output_type": "execute_result",
          "data": {
            "text/plain": [
              "numpy.ndarray"
            ]
          },
          "metadata": {},
          "execution_count": 7
        }
      ],
      "source": [
        "type(x)"
      ]
    },
    {
      "cell_type": "markdown",
      "metadata": {
        "ExecuteTime": {
          "end_time": "2020-01-30T08:49:58.239708Z",
          "start_time": "2020-01-30T08:49:58.231962Z"
        },
        "id": "EuoqkPSp2zVE"
      },
      "source": [
        "**TASK:** check the type of 'A'"
      ]
    },
    {
      "cell_type": "code",
      "execution_count": 8,
      "metadata": {
        "id": "8jgd5_Xn2zVF",
        "outputId": "38702c01-305d-4b42-dc74-167df98823df",
        "colab": {
          "base_uri": "https://localhost:8080/"
        }
      },
      "outputs": [
        {
          "output_type": "execute_result",
          "data": {
            "text/plain": [
              "numpy.ndarray"
            ]
          },
          "metadata": {},
          "execution_count": 8
        }
      ],
      "source": [
        "type(A)"
      ]
    },
    {
      "cell_type": "markdown",
      "metadata": {
        "ExecuteTime": {
          "end_time": "2020-01-30T08:49:58.780503Z",
          "start_time": "2020-01-30T08:49:58.771843Z"
        },
        "id": "gaZLb7Xr2zVF"
      },
      "source": [
        "**TASK:**  check the shape of 'x'\n"
      ]
    },
    {
      "cell_type": "code",
      "execution_count": 10,
      "metadata": {
        "id": "PplxXLq_2zVF",
        "outputId": "0c877bc6-a6a2-4851-817c-0d52aabeeb08",
        "colab": {
          "base_uri": "https://localhost:8080/"
        }
      },
      "outputs": [
        {
          "output_type": "execute_result",
          "data": {
            "text/plain": [
              "(3,)"
            ]
          },
          "metadata": {},
          "execution_count": 10
        }
      ],
      "source": [
        "np.shape(x)"
      ]
    },
    {
      "cell_type": "markdown",
      "metadata": {
        "ExecuteTime": {
          "end_time": "2020-01-30T08:49:59.209544Z",
          "start_time": "2020-01-30T08:49:59.197955Z"
        },
        "id": "uSZ_C4cp2zVF"
      },
      "source": [
        "**TASK:** check the type of 'A'"
      ]
    },
    {
      "cell_type": "code",
      "execution_count": 11,
      "metadata": {
        "id": "Z01CSJSa2zVF",
        "outputId": "4d359fe6-bfbb-417b-879e-dc9aecaa36b3",
        "colab": {
          "base_uri": "https://localhost:8080/"
        }
      },
      "outputs": [
        {
          "output_type": "execute_result",
          "data": {
            "text/plain": [
              "(2, 2)"
            ]
          },
          "metadata": {},
          "execution_count": 11
        }
      ],
      "source": [
        "np.shape(A)"
      ]
    },
    {
      "cell_type": "markdown",
      "metadata": {
        "id": "GoNvnu0_2zVG"
      },
      "source": [
        "**TASK:** "
      ]
    },
    {
      "cell_type": "code",
      "execution_count": 13,
      "metadata": {
        "ExecuteTime": {
          "end_time": "2020-01-30T08:49:59.477768Z",
          "start_time": "2020-01-30T08:49:59.472858Z"
        },
        "id": "EZjv0tFk2zVG"
      },
      "outputs": [],
      "source": [
        "\"\"\"\n",
        "Define function 'have_same_shape' which checks if two arrays have same shape.\n",
        "\n",
        "PARAMS:\n",
        "    array_1 (numpy.ndarray) - first array\n",
        "    array_2 (numpy.ndarray) - second array\n",
        "RETURN:\n",
        "    True - if arrays have same shape\n",
        "    False - if arrays do not have same shape\n",
        "\n",
        "Also print 'Arrays must have same shape!' when returning False\n",
        "\"\"\"\n",
        "def have_same_shape(array_1, array_2):\n",
        "  return np.shape(array_1) == np.shape(array_2)"
      ]
    },
    {
      "cell_type": "code",
      "execution_count": null,
      "metadata": {
        "id": "0BkznVBH2zVH"
      },
      "outputs": [],
      "source": []
    },
    {
      "cell_type": "markdown",
      "metadata": {
        "ExecuteTime": {
          "end_time": "2020-01-30T08:49:59.773624Z",
          "start_time": "2020-01-30T08:49:59.764633Z"
        },
        "id": "Hn2Z8jn82zVH"
      },
      "source": [
        "**TASK:** call the function 'have_same_shape' with matrix 'A' and vector 'x' as inputs"
      ]
    },
    {
      "cell_type": "code",
      "execution_count": 14,
      "metadata": {
        "id": "Tko6xWAt2zVH",
        "outputId": "505c6e50-c197-424c-c70f-6e895e59768a",
        "colab": {
          "base_uri": "https://localhost:8080/"
        }
      },
      "outputs": [
        {
          "output_type": "execute_result",
          "data": {
            "text/plain": [
              "False"
            ]
          },
          "metadata": {},
          "execution_count": 14
        }
      ],
      "source": [
        "have_same_shape(A, x)"
      ]
    },
    {
      "cell_type": "markdown",
      "metadata": {
        "ExecuteTime": {
          "end_time": "2020-01-30T08:50:00.108597Z",
          "start_time": "2020-01-30T08:50:00.099924Z"
        },
        "id": "q5MBAFFj2zVH"
      },
      "source": [
        "**TASK:**  call the function 'have_same_shape' with matrix 'A' and matrix 'B' as inputs"
      ]
    },
    {
      "cell_type": "code",
      "execution_count": 15,
      "metadata": {
        "id": "ohKhNNb62zVH",
        "outputId": "9d178cc6-5b48-477e-ea63-6670795daa61",
        "colab": {
          "base_uri": "https://localhost:8080/"
        }
      },
      "outputs": [
        {
          "output_type": "execute_result",
          "data": {
            "text/plain": [
              "True"
            ]
          },
          "metadata": {},
          "execution_count": 15
        }
      ],
      "source": [
        "have_same_shape(A,B)"
      ]
    },
    {
      "cell_type": "markdown",
      "metadata": {
        "id": "PaCv3hgg2zVH"
      },
      "source": [
        "**TASK:** "
      ]
    },
    {
      "cell_type": "code",
      "execution_count": 18,
      "metadata": {
        "ExecuteTime": {
          "end_time": "2020-01-30T08:50:00.453186Z",
          "start_time": "2020-01-30T08:50:00.445491Z"
        },
        "id": "stK1Fzfw2zVI"
      },
      "outputs": [],
      "source": [
        "\"\"\"\n",
        "Define function 'matrix_addition' which perform matrix addition value by value.\n",
        "\n",
        "PARAMS:\n",
        "    A (numpy.ndarray) - first array\n",
        "    B (numpy.ndarray) - second array\n",
        "RETURN:\n",
        "    C (numpy.ndarray) - new A+B array\n",
        "\n",
        "In this task do not consider broadcasting.\n",
        "Do not forget to check arrays shapes (you can use 'have_same_shape' function defined before)\n",
        "\n",
        "\"\"\"\n",
        "def matrix_addition(A, B):\n",
        "  if have_same_shape(A, B):\n",
        "    C = A + B\n",
        "    return C\n",
        "  error_msg = \"error: addition can not be executed on arrays of different shape\"\n",
        "  return error_msg"
      ]
    },
    {
      "cell_type": "code",
      "execution_count": null,
      "metadata": {
        "id": "yCA3-5Y72zVI"
      },
      "outputs": [],
      "source": []
    },
    {
      "cell_type": "markdown",
      "metadata": {
        "ExecuteTime": {
          "end_time": "2020-01-30T08:50:00.926629Z",
          "start_time": "2020-01-30T08:50:00.914790Z"
        },
        "id": "v3QMg3gH2zVI"
      },
      "source": [
        "**TASK:** call the function 'matrix_addition' with matrix 'A' and matrix 'B' as inputs"
      ]
    },
    {
      "cell_type": "code",
      "execution_count": 21,
      "metadata": {
        "id": "g9QxY85_2zVI",
        "outputId": "8cf5ba41-b121-4ca0-ca4b-a5dcf45aaef4",
        "colab": {
          "base_uri": "https://localhost:8080/"
        }
      },
      "outputs": [
        {
          "output_type": "execute_result",
          "data": {
            "text/plain": [
              "array([[ 6,  8],\n",
              "       [10, 12]])"
            ]
          },
          "metadata": {},
          "execution_count": 21
        }
      ],
      "source": [
        "matrix_addition(A, B)"
      ]
    },
    {
      "cell_type": "markdown",
      "metadata": {
        "id": "0lIHOJUK2zVI"
      },
      "source": [
        "**TASK:** "
      ]
    },
    {
      "cell_type": "code",
      "execution_count": 26,
      "metadata": {
        "ExecuteTime": {
          "end_time": "2020-01-30T08:50:01.238605Z",
          "start_time": "2020-01-30T08:50:01.231201Z"
        },
        "jupyter": {
          "outputs_hidden": true
        },
        "id": "6KiaTxKa2zVI"
      },
      "outputs": [],
      "source": [
        "\"\"\"\n",
        "Define 'multiple_matrix_adition' function that takes list of arrays as the input and perform array addition\n",
        "\n",
        "PARAMS:\n",
        "   lst_of_arr (list) - list of numpy.ndarrays\n",
        "RETURN:\n",
        "    NEW_ARRAY (numpy.ndarray) - new array\n",
        "\n",
        "Use 'matrix_addition' function defined before.\n",
        "\"\"\"\n",
        "def multiple_matrix_addition(arrays = [np.array(0)]):\n",
        "  C = arrays[0]\n",
        "  for array in arrays:\n",
        "    if np.shape(array) == np.shape(C):\n",
        "      C = matrix_addition(array, C)\n",
        "    else:\n",
        "       return \"error: addition can not be executed on arrays of different shape\"\n",
        "  return C\n"
      ]
    },
    {
      "cell_type": "code",
      "execution_count": 27,
      "metadata": {
        "id": "HDALm2Oj2zVJ",
        "outputId": "00add5e3-3be7-4245-a29a-9c480adc5ba1",
        "colab": {
          "base_uri": "https://localhost:8080/"
        }
      },
      "outputs": [
        {
          "output_type": "execute_result",
          "data": {
            "text/plain": [
              "array([[18, 24],\n",
              "       [30, 36]])"
            ]
          },
          "metadata": {},
          "execution_count": 27
        }
      ],
      "source": []
    },
    {
      "cell_type": "markdown",
      "metadata": {
        "ExecuteTime": {
          "end_time": "2020-01-30T08:50:01.515057Z",
          "start_time": "2020-01-30T08:50:01.506002Z"
        },
        "id": "JLgMugud2zVJ"
      },
      "source": [
        "**TASK:** call the function 'multiple_matrix_addition' with matrix [A,A,B,B,B] as input\n"
      ]
    },
    {
      "cell_type": "code",
      "execution_count": 28,
      "metadata": {
        "id": "nETltUf92zVJ",
        "outputId": "38a8eeb3-a688-49e2-ce9c-b02a7664b2f3",
        "colab": {
          "base_uri": "https://localhost:8080/"
        }
      },
      "outputs": [
        {
          "output_type": "execute_result",
          "data": {
            "text/plain": [
              "array([[18, 24],\n",
              "       [30, 36]])"
            ]
          },
          "metadata": {},
          "execution_count": 28
        }
      ],
      "source": [
        "multiple_matrix_addition([A,A,B,B,B])"
      ]
    },
    {
      "cell_type": "markdown",
      "metadata": {
        "id": "Ou5BZe8i2zVJ"
      },
      "source": [
        "**TASK:** "
      ]
    },
    {
      "cell_type": "code",
      "execution_count": null,
      "metadata": {
        "ExecuteTime": {
          "end_time": "2020-01-30T08:50:01.934418Z",
          "start_time": "2020-01-30T08:50:01.921444Z"
        },
        "id": "3GnAzCi22zVK"
      },
      "outputs": [],
      "source": [
        "\"\"\"\n",
        "Define function 'can_multiply' that checks if two arrays (matrices) can be multiplied\n",
        "\n",
        "PARAMS:\n",
        "   array_a (numpy.ndarray) - first array\n",
        "   array_b (numpy.ndarray) - second array\n",
        "RETURN:\n",
        "    True - if arrays can be multiplied, also print the shape of the new array\n",
        "    False - if arrays can not be multiplied, also print 'Matrices can not be multiplied.'\n",
        "    \n",
        "\"\"\""
      ]
    },
    {
      "cell_type": "code",
      "execution_count": 29,
      "metadata": {
        "id": "AS-Zj9rh2zVK"
      },
      "outputs": [],
      "source": [
        "def can_multiply(array_a, array_b):\n",
        "  if np.shape(array_a)[1] == np.shape(array_b)[0]:\n",
        "    new_array = [np.shape(array_a)[0], np.shape(array_b)[1]]\n",
        "    print(new_array)\n",
        "    return True\n",
        "  else:\n",
        "    print('Matrices can not be multiplied')\n",
        "    return False"
      ]
    },
    {
      "cell_type": "markdown",
      "metadata": {
        "ExecuteTime": {
          "end_time": "2020-01-30T08:50:02.291084Z",
          "start_time": "2020-01-30T08:50:02.280835Z"
        },
        "id": "uBIPfv9u2zVK"
      },
      "source": [
        "**TASK:** call the function 'can_multiply' with matrix 'A' and 'B' as inputs"
      ]
    },
    {
      "cell_type": "code",
      "execution_count": 32,
      "metadata": {
        "id": "3iiGjIpZ2zVK",
        "outputId": "04f4c3b5-bd90-4534-c126-92a59ceb970c",
        "colab": {
          "base_uri": "https://localhost:8080/"
        }
      },
      "outputs": [
        {
          "output_type": "stream",
          "name": "stdout",
          "text": [
            "[2, 2]\n"
          ]
        },
        {
          "output_type": "execute_result",
          "data": {
            "text/plain": [
              "True"
            ]
          },
          "metadata": {},
          "execution_count": 32
        }
      ],
      "source": [
        "can_multiply(A,B)"
      ]
    },
    {
      "cell_type": "markdown",
      "metadata": {
        "ExecuteTime": {
          "end_time": "2020-01-30T08:50:02.590166Z",
          "start_time": "2020-01-30T08:50:02.583812Z"
        },
        "id": "jy9dMTvU2zVK"
      },
      "source": [
        "**TASK:**  define matrix (3 x 2) matrix C"
      ]
    },
    {
      "cell_type": "code",
      "execution_count": 33,
      "metadata": {
        "id": "1XWYL-3C2zVK"
      },
      "outputs": [],
      "source": [
        "C = np.array([[1,2], [3,4], [5,6]])"
      ]
    },
    {
      "cell_type": "markdown",
      "metadata": {
        "ExecuteTime": {
          "end_time": "2020-01-30T08:50:02.853507Z",
          "start_time": "2020-01-30T08:50:02.841481Z"
        },
        "id": "Oi_t9aBn2zVK"
      },
      "source": [
        "**TASK:**  call the function 'can_multiply' with matrix 'A' and 'C' as inputs"
      ]
    },
    {
      "cell_type": "code",
      "execution_count": 34,
      "metadata": {
        "id": "kVTxrDC42zVK",
        "outputId": "869925f3-4a76-450a-a149-8d43603cb932",
        "colab": {
          "base_uri": "https://localhost:8080/"
        }
      },
      "outputs": [
        {
          "output_type": "stream",
          "name": "stdout",
          "text": [
            "Matrices can not be multiplied\n"
          ]
        },
        {
          "output_type": "execute_result",
          "data": {
            "text/plain": [
              "False"
            ]
          },
          "metadata": {},
          "execution_count": 34
        }
      ],
      "source": [
        "can_multiply(A,C)"
      ]
    },
    {
      "cell_type": "markdown",
      "metadata": {
        "ExecuteTime": {
          "end_time": "2020-01-30T08:50:03.194987Z",
          "start_time": "2020-01-30T08:50:03.188313Z"
        },
        "id": "s0wq79CB2zVL"
      },
      "source": [
        "**TASK:**  call the function 'can_multiply' with matrix 'C' and 'A' as inputs (now C,A not A,C). Do you know why is the result different?"
      ]
    },
    {
      "cell_type": "code",
      "execution_count": 36,
      "metadata": {
        "id": "45q9RM6c2zVL",
        "outputId": "ffd0deb7-02b9-47ab-876d-ecf1160ef109",
        "colab": {
          "base_uri": "https://localhost:8080/"
        }
      },
      "outputs": [
        {
          "output_type": "stream",
          "name": "stdout",
          "text": [
            "[3, 2]\n"
          ]
        },
        {
          "output_type": "execute_result",
          "data": {
            "text/plain": [
              "True"
            ]
          },
          "metadata": {},
          "execution_count": 36
        }
      ],
      "source": [
        "can_multiply(C,A)"
      ]
    },
    {
      "cell_type": "markdown",
      "metadata": {
        "id": "lxDadqSl2zVL"
      },
      "source": [
        "**TASK:** "
      ]
    },
    {
      "cell_type": "code",
      "execution_count": null,
      "metadata": {
        "ExecuteTime": {
          "end_time": "2020-01-30T08:50:03.460761Z",
          "start_time": "2020-01-30T08:50:03.453042Z"
        },
        "id": "QtucR4xo2zVL"
      },
      "outputs": [],
      "source": [
        "\"\"\"\n",
        "Define function 'matrix_multiplication' that multiply two numpy.ndarrays\n",
        "\n",
        "PARAMS:\n",
        "   array_a (numpy.ndarray) - first array\n",
        "   array_b (numpy.ndarray) - second array\n",
        "RETURN:\n",
        "    NEW_ARRAY (numpy.ndarray) - new A * B array\n",
        "    \n",
        "Do not forget to check if two matrices can be multiplied.\n",
        "\n",
        "\"\"\""
      ]
    },
    {
      "cell_type": "code",
      "execution_count": 37,
      "metadata": {
        "id": "8HG_gbsX2zVL"
      },
      "outputs": [],
      "source": [
        "def matrix_multiplication(array_a, array_b):\n",
        "  if can_multiply(array_a, array_b):\n",
        "    NEW_ARRAY = array_a.dot(array_b)\n",
        "    return NEW_ARRAY\n",
        "  pass"
      ]
    },
    {
      "cell_type": "markdown",
      "metadata": {
        "ExecuteTime": {
          "end_time": "2020-01-30T08:50:03.899011Z",
          "start_time": "2020-01-30T08:50:03.886562Z"
        },
        "id": "XDH8OcfL2zVL"
      },
      "source": [
        "**TASK:**  call the function 'matrix_multiplication' with matrix 'C' and 'B' \n"
      ]
    },
    {
      "cell_type": "code",
      "execution_count": 38,
      "metadata": {
        "id": "HfbH50Av2zVL",
        "outputId": "f8c1e74c-3b5b-4874-bfa5-31f07f0c0b5f",
        "colab": {
          "base_uri": "https://localhost:8080/"
        }
      },
      "outputs": [
        {
          "output_type": "stream",
          "name": "stdout",
          "text": [
            "[3, 2]\n"
          ]
        },
        {
          "output_type": "execute_result",
          "data": {
            "text/plain": [
              "array([[19, 22],\n",
              "       [43, 50],\n",
              "       [67, 78]])"
            ]
          },
          "metadata": {},
          "execution_count": 38
        }
      ],
      "source": [
        "matrix_multiplication(C,B)"
      ]
    },
    {
      "cell_type": "markdown",
      "metadata": {
        "ExecuteTime": {
          "end_time": "2020-01-30T08:50:04.265728Z",
          "start_time": "2020-01-30T08:50:04.258942Z"
        },
        "id": "D94Sg_Xc2zVL"
      },
      "source": [
        "**TASK:** call the function 'matrix_multiplication' with matrix 'A' and 'C' "
      ]
    },
    {
      "cell_type": "code",
      "execution_count": 39,
      "metadata": {
        "id": "cen9EXgm2zVL",
        "outputId": "2015817a-7d8c-49f4-bd44-5d10bfab97a0",
        "colab": {
          "base_uri": "https://localhost:8080/"
        }
      },
      "outputs": [
        {
          "output_type": "stream",
          "name": "stdout",
          "text": [
            "Matrices can not be multiplied\n"
          ]
        }
      ],
      "source": [
        "matrix_multiplication(A,C)"
      ]
    },
    {
      "cell_type": "code",
      "execution_count": null,
      "metadata": {
        "id": "IeciDM332zVL"
      },
      "outputs": [],
      "source": []
    },
    {
      "cell_type": "code",
      "execution_count": null,
      "metadata": {
        "id": "PojqhelN2zVL"
      },
      "outputs": [],
      "source": []
    }
  ],
  "metadata": {
    "kernelspec": {
      "display_name": "Python 3",
      "language": "python",
      "name": "python3"
    },
    "language_info": {
      "codemirror_mode": {
        "name": "ipython",
        "version": 3
      },
      "file_extension": ".py",
      "mimetype": "text/x-python",
      "name": "python",
      "nbconvert_exporter": "python",
      "pygments_lexer": "ipython3",
      "version": "3.7.6"
    },
    "toc": {
      "base_numbering": 1,
      "nav_menu": {},
      "number_sections": true,
      "sideBar": true,
      "skip_h1_title": false,
      "title_cell": "Table of Contents",
      "title_sidebar": "Contents",
      "toc_cell": false,
      "toc_position": {},
      "toc_section_display": true,
      "toc_window_display": true
    },
    "varInspector": {
      "cols": {
        "lenName": 16,
        "lenType": 16,
        "lenVar": 40
      },
      "kernels_config": {
        "python": {
          "delete_cmd_postfix": "",
          "delete_cmd_prefix": "del ",
          "library": "var_list.py",
          "varRefreshCmd": "print(var_dic_list())"
        },
        "r": {
          "delete_cmd_postfix": ") ",
          "delete_cmd_prefix": "rm(",
          "library": "var_list.r",
          "varRefreshCmd": "cat(var_dic_list()) "
        }
      },
      "types_to_exclude": [
        "module",
        "function",
        "builtin_function_or_method",
        "instance",
        "_Feature"
      ],
      "window_display": false
    },
    "colab": {
      "provenance": []
    }
  },
  "nbformat": 4,
  "nbformat_minor": 0
}