{
  "cells": [
    {
      "cell_type": "markdown",
      "metadata": {
        "id": "qIF7Z45QIKpy"
      },
      "source": [
        "# UDFs in Python"
      ]
    },
    {
      "cell_type": "markdown",
      "metadata": {
        "id": "R9pED6o1IKp2"
      },
      "source": [
        "#### Greeter\n",
        "Write a function that takes in a person's name, and prints out a greeting.\n",
        "The greeting must be at least three lines, and the person's name must be in each line.\n",
        "Use your function to greet at least **three** different people.\n",
        "\n",
        "**Bonus:** Store your three people in a list, and call your function from a for loop.\n",
        "\n",
        "\n",
        "**Example Output:**\n",
        "\n",
        "Hello John!<br>\n",
        "Hello John!<br>\n",
        "Hello John!<br>"
      ]
    },
    {
      "cell_type": "code",
      "execution_count": 3,
      "metadata": {
        "id": "4WFdumzAIKp2"
      },
      "outputs": [],
      "source": [
        "def greeting():\n",
        "  name = input()\n",
        "  print(\"Hello {}!\".format(name))"
      ]
    },
    {
      "cell_type": "code",
      "execution_count": 4,
      "metadata": {
        "id": "UPeXpTiwIKp3",
        "outputId": "de57dccb-22ac-4376-baa5-cfa03537ea89",
        "colab": {
          "base_uri": "https://localhost:8080/"
        }
      },
      "outputs": [
        {
          "output_type": "stream",
          "name": "stdout",
          "text": [
            "Bill\n",
            "Hello Bill!\n",
            "Ted\n",
            "Hello Ted!\n",
            "ganja\n",
            "Hello ganja!\n"
          ]
        }
      ],
      "source": [
        "greeting()\n",
        "greeting()\n",
        "greeting()"
      ]
    },
    {
      "cell_type": "markdown",
      "metadata": {
        "id": "1sGbu79wIKp3"
      },
      "source": [
        "#### Full Names\n",
        "Write a function that takes in a first name and a last name, and prints out a nicely formatted full name, in a sentence. Your sentence could be as simple as, \"Hello, full_name.\""
      ]
    },
    {
      "cell_type": "code",
      "execution_count": 10,
      "metadata": {
        "id": "o_e4i2HDIKp4"
      },
      "outputs": [],
      "source": [
        "def fullName():\n",
        "  print(\"Hey what's your first name?\")\n",
        "  givName = input()\n",
        "  print(\"And your last name?\")\n",
        "  surname = input()\n",
        "  print(\"Fuck you, {} {}\".format(givName, surname))"
      ]
    },
    {
      "cell_type": "code",
      "execution_count": 11,
      "metadata": {
        "id": "Jv2FG8XZIKp4",
        "outputId": "933e940f-4b96-48ce-ce67-aaa8ef8b6146",
        "colab": {
          "base_uri": "https://localhost:8080/"
        }
      },
      "outputs": [
        {
          "output_type": "stream",
          "name": "stdout",
          "text": [
            "Hey what's your first name?\n",
            "Noah \n",
            "And your last name?\n",
            "Murphy\n",
            "Fuck you, Noah  Murphy\n"
          ]
        }
      ],
      "source": [
        "fullName()"
      ]
    },
    {
      "cell_type": "markdown",
      "metadata": {
        "id": "tM30ke-kIKp4"
      },
      "source": [
        "#### Addition Calculator\n",
        "Write a function that takes in two numbers, and adds them together. Make your function print out a sentence showing the two numbers, and the result.\n",
        "\n",
        "**Example Output:**\n",
        "\n",
        "The sum of 2 and 3 is 5."
      ]
    },
    {
      "cell_type": "code",
      "execution_count": 12,
      "metadata": {
        "id": "xYz15mtkIKp5"
      },
      "outputs": [],
      "source": [
        "def sum(i, j):\n",
        "  print(\"The sum of {} and {} is {}\".format(i,j,i+j))"
      ]
    },
    {
      "cell_type": "code",
      "execution_count": 13,
      "metadata": {
        "id": "OJKq_yV-IKp5",
        "outputId": "bee35db2-33ec-4040-cc79-bbd67b39907c",
        "colab": {
          "base_uri": "https://localhost:8080/"
        }
      },
      "outputs": [
        {
          "output_type": "stream",
          "name": "stdout",
          "text": [
            "The sum of 1 and 2 is 3\n"
          ]
        }
      ],
      "source": [
        "sum(1,2)"
      ]
    },
    {
      "cell_type": "markdown",
      "metadata": {
        "id": "FS7A5yVcIKp5"
      },
      "source": [
        "#### Return Calculator\n",
        "Modify Addition Calculator so that your function **returns** the sum of the two numbers. The printing should happen outside of the function."
      ]
    },
    {
      "cell_type": "code",
      "execution_count": 15,
      "metadata": {
        "id": "7fyh2xaFIKp5"
      },
      "outputs": [],
      "source": [
        "def sum(i, j):\n",
        "  return(i+j)"
      ]
    },
    {
      "cell_type": "code",
      "execution_count": null,
      "metadata": {
        "id": "Q2rZOzWPIKp6"
      },
      "outputs": [],
      "source": []
    },
    {
      "cell_type": "markdown",
      "metadata": {
        "id": "TdSsEqQrIKp6"
      },
      "source": [
        "#### Sum everything in the list\n",
        "\n",
        "Write a Python function to sum all the numbers in a list"
      ]
    },
    {
      "cell_type": "code",
      "execution_count": 17,
      "metadata": {
        "id": "Tar8TUUAIKp6"
      },
      "outputs": [],
      "source": [
        "def sum(nums = []):\n",
        "  sum = 0\n",
        "  for num in nums:\n",
        "    sum += num\n",
        "  return(sum)"
      ]
    },
    {
      "cell_type": "code",
      "execution_count": 19,
      "metadata": {
        "id": "BByfSuGsIKp6",
        "outputId": "73067dc3-0cca-4835-841d-d2569af29906",
        "colab": {
          "base_uri": "https://localhost:8080/"
        }
      },
      "outputs": [
        {
          "output_type": "stream",
          "name": "stdout",
          "text": [
            "10\n"
          ]
        }
      ],
      "source": [
        "print(sum([1,2,3,4]))"
      ]
    },
    {
      "cell_type": "markdown",
      "metadata": {
        "id": "mBwpSq5PIKp6"
      },
      "source": [
        "#### Reverse string\n",
        "\n",
        "Write a Python program to reverse a string.\n",
        "\n",
        "Sample String : \"1234abcd\" <br>\n",
        "Expected Output : \"dcba4321\""
      ]
    },
    {
      "cell_type": "code",
      "execution_count": 26,
      "metadata": {
        "id": "_oQXfA_PIKp6"
      },
      "outputs": [],
      "source": [
        "def revString(string = \"tnemugra gnirts gnissiM\"):\n",
        "  print(string[::-1])"
      ]
    },
    {
      "cell_type": "code",
      "execution_count": 27,
      "metadata": {
        "id": "nn29vafZIKp7",
        "outputId": "e4b80e26-4e21-41ce-9393-d8b25b839420",
        "colab": {
          "base_uri": "https://localhost:8080/"
        }
      },
      "outputs": [
        {
          "output_type": "stream",
          "name": "stdout",
          "text": [
            "Missing string argument\n"
          ]
        }
      ],
      "source": [
        "revString()"
      ]
    },
    {
      "cell_type": "markdown",
      "metadata": {
        "id": "UlYpmAaHIKp7"
      },
      "source": [
        "#### Range check\n",
        "\n",
        "Write a Python function to check whether a number is in a given range. \n",
        "\n",
        "Inputs: number, tuple of min and max<br>\n",
        "Outputs: True/False"
      ]
    },
    {
      "cell_type": "code",
      "execution_count": 39,
      "metadata": {
        "id": "ubh_iyvLIKp7"
      },
      "outputs": [],
      "source": [
        "def inRange(i = 0, range = (0,0)):\n",
        "  return(i >= range[0] and i < range[1])"
      ]
    },
    {
      "cell_type": "code",
      "execution_count": 43,
      "metadata": {
        "id": "ER06kpXtIKp7",
        "outputId": "59999d4a-db96-4bae-dd7e-3e52398df854",
        "colab": {
          "base_uri": "https://localhost:8080/"
        }
      },
      "outputs": [
        {
          "output_type": "stream",
          "name": "stdout",
          "text": [
            "True\n"
          ]
        }
      ],
      "source": [
        "print(inRange(0, (0,1)))"
      ]
    },
    {
      "cell_type": "code",
      "execution_count": 40,
      "metadata": {
        "id": "ppM7aAGzIKp7"
      },
      "outputs": [],
      "source": []
    },
    {
      "cell_type": "code",
      "source": [],
      "metadata": {
        "id": "VojDA8paQBQq"
      },
      "execution_count": null,
      "outputs": []
    }
  ],
  "metadata": {
    "kernelspec": {
      "display_name": "Python 3",
      "language": "python",
      "name": "python3"
    },
    "language_info": {
      "codemirror_mode": {
        "name": "ipython",
        "version": 3
      },
      "file_extension": ".py",
      "mimetype": "text/x-python",
      "name": "python",
      "nbconvert_exporter": "python",
      "pygments_lexer": "ipython3",
      "version": "3.7.6"
    },
    "colab": {
      "provenance": []
    }
  },
  "nbformat": 4,
  "nbformat_minor": 0
}